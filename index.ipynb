{
 "cells": [
  {
   "cell_type": "code",
   "execution_count": null,
   "metadata": {},
   "outputs": [],
   "source": [
    "#hide\n",
    "from structural_damage_detection.core import *"
   ]
  },
  {
   "cell_type": "markdown",
   "metadata": {},
   "source": [
    "# Structural Defect Detection - Parking Slot\n",
    "\n",
    "> This is R&D project. We have an image data and their repective labels where it defined all the defects available in parking area. Our purpose is to detect the defect in parking area by using Deep Learning (Computer vision techniques)."
   ]
  },
  {
   "cell_type": "markdown",
   "metadata": {},
   "source": [
    "## Install"
   ]
  },
  {
   "cell_type": "markdown",
   "metadata": {},
   "source": [
    "`clone the github repo` then `pip install structural_defect_detection`"
   ]
  }
 ],
 "metadata": {
  "kernelspec": {
   "display_name": "Python (cvDetection)",
   "language": "python",
   "name": "cvdetection"
  }
 },
 "nbformat": 4,
 "nbformat_minor": 2
}
